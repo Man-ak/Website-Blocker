{
 "cells": [
  {
   "cell_type": "code",
   "execution_count": 2,
   "id": "764814b7",
   "metadata": {},
   "outputs": [],
   "source": [
    "from tkinter import *"
   ]
  },
  {
   "cell_type": "code",
   "execution_count": 14,
   "id": "66463bfe",
   "metadata": {},
   "outputs": [
    {
     "data": {
      "text/plain": [
       "''"
      ]
     },
     "execution_count": 14,
     "metadata": {},
     "output_type": "execute_result"
    }
   ],
   "source": [
    "root = Tk()\n",
    "root.geometry('500x300')\n",
    "root.resizable(0,0)\n",
    "root.title(\"Manak's - Website Blocker\")"
   ]
  },
  {
   "cell_type": "code",
   "execution_count": 15,
   "id": "22e28f1c",
   "metadata": {},
   "outputs": [],
   "source": [
    "Label(root, text ='WEBSITE BLOCKER' , font ='arial 20 bold').pack()\n",
    "Label(root, text ='Manak' , font ='arial 20 bold').pack(side=BOTTOM)"
   ]
  },
  {
   "cell_type": "code",
   "execution_count": 16,
   "id": "a22e9f7c",
   "metadata": {},
   "outputs": [],
   "source": [
    "host_path ='C:\\Windows\\System32\\drivers\\etc\\hosts'\n",
    "ip_address = '127.0.0.1'\n",
    "\n",
    "Label(root, text ='Enter Website :' , font ='arial 13 bold').place(x=5 ,y=60)\n",
    "Websites = Text(root,font = 'arial 10',height='2', width = '40', wrap = WORD, padx=5, pady=5)\n",
    "Websites.place(x= 140,y = 60)"
   ]
  },
  {
   "cell_type": "code",
   "execution_count": 17,
   "id": "d135b721",
   "metadata": {},
   "outputs": [],
   "source": [
    "def Blocker():\n",
    "    website_lists = Websites.get(1.0,END)\n",
    "    Website = list(website_lists.split(\",\"))\n",
    "\n",
    "    with open (host_path , 'r+') as host_file:\n",
    "        file_content = host_file.read()\n",
    "        for website in Website:\n",
    "            if website in file_content:\n",
    "                Label(root, text = 'Already Blocked' , font = 'arial 12 bold').place(x=200,y=200)\n",
    "                pass\n",
    "            else:\n",
    "                host_file.write(ip_address + \" \" + website + '\\n')\n",
    "                Label(root, text = \"Blocked\", font = 'arial 12 bold').place(x=230,y =200)"
   ]
  },
  {
   "cell_type": "code",
   "execution_count": 18,
   "id": "85fbe85a",
   "metadata": {},
   "outputs": [],
   "source": [
    "block = Button(root, text = 'Block',font = 'arial 12 bold',pady = 5,command = Blocker ,width = 6, bg = 'royal blue1', activebackground = 'sky blue')\n",
    "\n",
    "block.place(x = 230, y = 150)\n",
    "root.mainloop()"
   ]
  },
  {
   "cell_type": "code",
   "execution_count": null,
   "id": "45c29f66",
   "metadata": {},
   "outputs": [],
   "source": []
  }
 ],
 "metadata": {
  "kernelspec": {
   "display_name": "Python 3 (ipykernel)",
   "language": "python",
   "name": "python3"
  },
  "language_info": {
   "codemirror_mode": {
    "name": "ipython",
    "version": 3
   },
   "file_extension": ".py",
   "mimetype": "text/x-python",
   "name": "python",
   "nbconvert_exporter": "python",
   "pygments_lexer": "ipython3",
   "version": "3.9.13"
  }
 },
 "nbformat": 4,
 "nbformat_minor": 5
}
